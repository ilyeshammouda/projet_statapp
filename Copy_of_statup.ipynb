{
  "nbformat": 4,
  "nbformat_minor": 0,
  "metadata": {
    "colab": {
      "provenance": []
    },
    "kernelspec": {
      "name": "python3",
      "display_name": "Python 3"
    },
    "language_info": {
      "name": "python"
    }
  },
  "cells": [
    {
      "cell_type": "code",
      "source": [
        "pip install  pylops==1.5"
      ],
      "metadata": {
        "colab": {
          "base_uri": "https://localhost:8080/"
        },
        "id": "u6JAdAH8pLiS",
        "outputId": "71059871-3539-447a-94d9-a2c6257c4b49"
      },
      "execution_count": null,
      "outputs": [
        {
          "output_type": "stream",
          "name": "stdout",
          "text": [
            "Looking in indexes: https://pypi.org/simple, https://us-python.pkg.dev/colab-wheels/public/simple/\n",
            "Collecting pylops==1.5\n",
            "  Downloading pylops-1.5.0-py3-none-any.whl (158 kB)\n",
            "\u001b[2K     \u001b[90m━━━━━━━━━━━━━━━━━━━━━━━━━━━━━━━━━━━━━━━\u001b[0m \u001b[32m158.6/158.6 KB\u001b[0m \u001b[31m8.4 MB/s\u001b[0m eta \u001b[36m0:00:00\u001b[0m\n",
            "\u001b[?25hRequirement already satisfied: scipy in /usr/local/lib/python3.8/dist-packages (from pylops==1.5) (1.7.3)\n",
            "Requirement already satisfied: numpy>=1.15.0 in /usr/local/lib/python3.8/dist-packages (from pylops==1.5) (1.21.6)\n",
            "Installing collected packages: pylops\n",
            "Successfully installed pylops-1.5.0\n"
          ]
        }
      ]
    },
    {
      "cell_type": "code",
      "execution_count": null,
      "metadata": {
        "colab": {
          "base_uri": "https://localhost:8080/"
        },
        "id": "wXzXNOSZpILf",
        "outputId": "1f0d5b5f-4a4c-4e42-9f64-a9a85c384c6c"
      },
      "outputs": [
        {
          "output_type": "stream",
          "name": "stdout",
          "text": [
            "test\n"
          ]
        }
      ],
      "source": [
        "'''\n",
        "Ce code définit les classes qui vont être utilisées par la suite dans le projet \n",
        "'''\n",
        "\n",
        "\n",
        "#la Classe random contient les fonctions qui simulent les variables aléatoires qui seront utilisée pour étudier les données simulés.\n",
        "import numpy as np\n",
        "import pylops\n",
        "from pylops.optimization.sparsity import ISTA\n",
        "from pylops.optimization.sparsity import FISTA\n",
        "print(\"test\")\n",
        "class random:  \n",
        "    def matrix_normal(n,p,mu=0,sigma=1):  # n est le nombre de lignes et p le nombre des colonnes, mu est la moyenne et sigma est l'écart type\n",
        "        return (np.random.randn(n,p)*(sigma**2))+mu\n",
        "    def vect_normal(n,mu=0,sigma=1):\n",
        "        return (np.random.randn(n)*(sigma**2))+mu\n",
        "    def beta(a,s,n): # s et a sont à préciser tel que s= 0,1*p et n> 2*s*log(p/2) pour commencer on peut utilisr a=1\n",
        "        return a*(np.random.binomial(1,s/n , size=(n,)))\n",
        "    def outcome(n,p,a,s,mu=0,sigma=1):\n",
        "        X=random.matrix_normal(n,p,mu,sigma)\n",
        "        beta=random.beta(a,s,p)\n",
        "        epsilon=random.vect_normal(n,mu,sigma)\n",
        "        Y=X @ beta+epsilon\n",
        "        return Y,X,beta,epsilon\n",
        "\n",
        "\n",
        "#la classe algo contient les algorithmes qui seront utilisés nottament ISTA et IHT\n",
        "class algo:\n",
        "    def ista(X,Y,n,alpha): #pour executer cet algorithme il faut installer la version 1.5 de pylops. Pour ceci on utilise la commande \"pip install  pylops==1.5 \"\n",
        "        Op=pylops.MatrixMult(X)\n",
        "        beta, niter, cost = pylops.optimization.sparsity.ISTA(Op, Y, n, eps=alpha, # n est le nombre maximal d'itération, le vecteur beta contient la solution du problème d'optimisation, et finalement cost represente l'historique de la fonction de coût\n",
        "                                                        tol=0, returninfo=True) \n",
        "        return(beta,niter,cost)\n",
        "    def fista(X,Y,n,alpha):\n",
        "        Op=pylops.MatrixMult(X)\n",
        "        beta, niter, cost = pylops.optimization.sparsity.FISTA(Op, Y, n, eps=alpha,tol=0, returninfo=True)\n",
        "        return(beta,niter,cost)\n",
        "    # Hard thresholding function\n",
        "    def SoftThreshold(x, lamda):\n",
        "        return np.sign(x) * np.maximum(np.abs(x) - lamda, 0)\n",
        "    def IHT(x, D, max_iterations=100,lamda=0.01, tol=1e-6):\n",
        "        m, n = D.shape\n",
        "        z = np.zeros(n)\n",
        "        v = x.copy()\n",
        "        J = []\n",
        "        for i in range(max_iterations):\n",
        "            z_new = algo.SoftThreshold(D.T @ v + z, lamda)\n",
        "            v = x - D @ z_new\n",
        "            if np.linalg.norm(z_new - z) < tol:\n",
        "                break\n",
        "            z = z_new.copy()\n",
        "            J.append(0.5 * np.linalg.norm(x - D @ z_new)**2 + lamda * np.linalg.norm(z_new, ord=1))\n",
        "        return z,J"
      ]
    },
    {
      "cell_type": "code",
      "source": [
        "from math import log\n",
        "import matplotlib.pyplot as plt\n",
        "import numpy\n",
        "\n",
        "Y,X,beta,epsilon=random.outcome(1000,2000,1,0.1*2000)\n",
        "n=Y.shape\n",
        "\n",
        "n=100\n",
        "alpha= numpy.linspace(0,0.1,100)\n",
        "\n",
        "#betahat_1,nbr_it,cost_1=algo.ista(X,Y,1000,4*((log(2000)**(1/2))))\n",
        "\n",
        "for k in alpha: \n",
        "  betahat_1,nbr_it_1,cost_1=algo.ista(X,Y,n,k)\n",
        "  nbr_it = list(range(1,n+1))\n",
        "plt.title(\"valeur de la fonction de coût en fonction du nombre d'itérations avec l'algorithme ISTA\")  # Titre du graphique\n",
        "plt.ylabel('nombre itérations')  # Titre de l'axe y\n",
        "plt.xlabel('valeur de la fonction de coût')\n",
        "plt.plot(nbr_it,cost_1)\n",
        "\n",
        "#ce graphique représente la vitesse de convergence en fonction du nombre d'itération de la fonction de coût de l'algorithme ISTA"
      ],
      "metadata": {
        "colab": {
          "base_uri": "https://localhost:8080/"
        },
        "id": "iXf0lBtSpTNq",
        "outputId": "7450f683-6120-44d3-94ff-a9acf8b175bf"
      },
      "execution_count": null,
      "outputs": [
        {
          "output_type": "execute_result",
          "data": {
            "text/plain": [
              "[<matplotlib.lines.Line2D at 0x7f246bf3ae80>]"
            ]
          },
          "metadata": {},
          "execution_count": 4
        },
        {
          "output_type": "display_data",
          "data": {
            "text/plain": [
              "<Figure size 432x288 with 1 Axes>"
            ],
            "image/png": "[encoded data removed]"
          },
          "metadata": {
            "needs_background": "light"
          }
        }
      ]
    },
    {
      "cell_type": "code",
      "source": [
        "#voici le même graphique appliqué à l'algorithme FISTA\n",
        "n=100\n",
        "alpha= numpy.linspace(0,0.1,100)\n",
        "\n",
        "for k in alpha: \n",
        "  betahat_2,nbr_it_2,cost_2=algo.fista(X,Y,n,k)\n",
        "  nbr_it2 = list(range(1,n+1))\n",
        "\n",
        "plt.title(\"valeur de la fonction de coût en fonction du nombre d'itérations avec l'algorithme FISTA\")\n",
        "plt.ylabel('nombre itérations')  # Titre de l'axe y\n",
        "plt.xlabel('valeur de la fonction de coût')\n",
        "plt.plot(nbr_it2,cost_1,color='red')"
      ],
      "metadata": {
        "id": "FQTh2DxOpfNg",
        "colab": {
          "base_uri": "https://localhost:8080/"
        },
        "outputId": "03bf49f6-cac8-4141-b518-1c5dc4fdbe9f"
      },
      "execution_count": null,
      "outputs": [
        {
          "output_type": "execute_result",
          "data": {
            "text/plain": [
              "[<matplotlib.lines.Line2D at 0x7f246bed64f0>]"
            ]
          },
          "metadata": {},
          "execution_count": 5
        },
        {
          "output_type": "display_data",
          "data": {
            "text/plain": [
              "<Figure size 432x288 with 1 Axes>"
            ],
            "image/png": "[encoded data removed]"
          },
          "metadata": {
            "needs_background": "light"
          }
        }
      ]
    },
    {
      "cell_type": "code",
      "source": [
        "#graphiques superposés\n",
        "\n",
        "\n",
        "from math import log\n",
        "import matplotlib.pyplot as plt\n",
        "import numpy\n",
        "\n",
        "Y,X,beta,epsilon=random.outcome(1000,2000,1,0.1*2000)\n",
        "n=Y.shape\n",
        "\n",
        "n=100\n",
        "alpha= numpy.linspace(0,0.1,100)\n",
        "\n",
        "#betahat_1,nbr_it,cost_1=algo.ista(X,Y,1000,4*((log(2000)**(1/2))))\n",
        "\n",
        "for k in alpha: \n",
        "  betahat_1,nbr_it_1,cost_1=algo.ista(X,Y,n,k)\n",
        "  betahat_2,nbr_it_2,cost_2=algo.fista(X,Y,n,k)\n",
        "  nbr_it = list(range(1,n+1))\n",
        "\n",
        "plt.ylabel('nombre itérations')  # Titre de l'axe y\n",
        "plt.xlabel('valeur de la fonction de coût')\n",
        "plt.title(\"valeur de la fonction de coût en fonction du nombre d'itérations avec l'algorithme ISTA en bleu, FISTA en rouge \")\n",
        "plt.plot(nbr_it,cost_1, color='blue')\n",
        "plt.plot(nbr_it,cost_2, color='red')\n",
        "\n",
        "\n",
        "#ici nous remarquons bien que l'algorithme FISTA est plus performant que l'algorithme ISTA \n",
        "#la fonction de coût décroît plus rapidement pour l'algorithme FISTA que pour l'algorithme ISTA"
      ],
      "metadata": {
        "colab": {
          "base_uri": "https://localhost:8080/"
        },
        "id": "xIm34R9eDtNi",
        "outputId": "219b2a99-b3c2-45e6-a146-f3d3c37ffe3f"
      },
      "execution_count": null,
      "outputs": [
        {
          "output_type": "execute_result",
          "data": {
            "text/plain": [
              "[<matplotlib.lines.Line2D at 0x7f246b9eeb80>]"
            ]
          },
          "metadata": {},
          "execution_count": 6
        },
        {
          "output_type": "display_data",
          "data": {
            "text/plain": [
              "<Figure size 432x288 with 1 Axes>"
            ],
            "image/png": "[encoded data removed]"
          },
          "metadata": {
            "needs_background": "light"
          }
        }
      ]
    },
    {
      "cell_type": "code",
      "source": [
        "#tentons le calcul du coefficient de Pearson\n",
        "x=cost_1\n",
        "y=cost_2\n",
        "from scipy.stats import pearsonr\n",
        "coeff_pearson,_ = pearsonr(x,y)\n",
        "print(\"le pourcentage de corrélation entre .... : {}\".format(coeff_pearson))\n",
        "\n",
        "#97% de pourcentage de corrélation c'est énorme haha, cela signifie que les deux fonctions de coût de l'algorithme ISTA et FISTA sont quasiment équivalentes\n",
        "#le calcul de la pente nous permet de montrer que la valeur ajoutée de FISTA est sur la vitesse de convergence\n",
        "#je ne suis pas bien sûr de ce qu'on peut en faire mais je vais continuer à creuser"
      ],
      "metadata": {
        "colab": {
          "base_uri": "https://localhost:8080/"
        },
        "id": "E6C9kDPOHj48",
        "outputId": "bcdc15d1-f9c5-43b1-a3bb-ebf27bc1a9da"
      },
      "execution_count": null,
      "outputs": [
        {
          "output_type": "stream",
          "name": "stdout",
          "text": [
            "le pourcentage de corrélation entre .... : 0.9776553681192128\n"
          ]
        }
      ]
    },
    {
      "cell_type": "code",
      "source": [
        "#on peut faire un t-test aussi pour vérifier si ces 2 séries temporelles ont de fortes différences\n",
        "#à valider avec Ilyes et Aziz\n",
        "\n",
        "#calculons le slope des séries temporelles\n",
        "\n",
        "slopeISTA = np.polyfit(nbr_it,cost_1,1)[0]\n",
        "print('la pente de la fonction de coût générée par ISTA vaut', slopeISTA)\n",
        "\n",
        "\n",
        "slopeFISTA = np.polyfit(nbr_it,cost_2,1)[0]\n",
        "print( 'la pente de la fonction de coût générée par ISTA vaut', slopeFISTA)\n",
        "\n",
        "#donc l'algorithme FISTA converge bien plus rapidement que l'algorithme FISTA puisque sa pente est plus grande "
      ],
      "metadata": {
        "colab": {
          "base_uri": "https://localhost:8080/"
        },
        "id": "2Yc0HfhfI9KX",
        "outputId": "61f2ef2b-7741-4d58-b6e6-9c4fdc9ce534"
      },
      "execution_count": null,
      "outputs": [
        {
          "output_type": "stream",
          "name": "stdout",
          "text": [
            "la pente de la fonction de coût générée par ISTA vaut -99.58810855640183\n",
            "la pente de la fonction de coût générée par ISTA vaut -33.17271052184974\n"
          ]
        }
      ]
    }
  ]
}